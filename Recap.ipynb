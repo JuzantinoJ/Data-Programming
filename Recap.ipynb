{
 "cells": [
  {
   "cell_type": "markdown",
   "id": "1b75a50f-df3d-47a0-a681-c095430b7a2a",
   "metadata": {},
   "source": [
    "<h1>1.2 Using Python to Read and Write Data</h1>"
   ]
  },
  {
   "cell_type": "markdown",
   "id": "ee96435f-520f-427e-9237-ad83a69650cf",
   "metadata": {},
   "source": [
    "<h3>Put data/information into a variable in Python</h3>"
   ]
  },
  {
   "cell_type": "code",
   "execution_count": 9,
   "id": "6444954e-124a-442d-a4a4-004596a23080",
   "metadata": {},
   "outputs": [
    {
     "name": "stdout",
     "output_type": "stream",
     "text": [
      "['john', 'brendan', 'irshad', 'kai', 'taskin']\n",
      "john\n"
     ]
    }
   ],
   "source": [
    "data = ['john','brendan','irshad','kai','taskin']\n",
    "class_list = data\n",
    "\n",
    "print(class_list)\n",
    "print(class_list[0])\n"
   ]
  },
  {
   "cell_type": "code",
   "execution_count": null,
   "id": "9e042b83",
   "metadata": {},
   "outputs": [],
   "source": []
  },
  {
   "cell_type": "markdown",
   "id": "f6e90441-e426-4fbe-bd69-c7b717e46015",
   "metadata": {},
   "source": [
    "<h3>Retrieving/Read data in a TXT file and putting each line in a variable</h3>\n"
   ]
  },
  {
   "cell_type": "code",
   "execution_count": 10,
   "id": "64ae8d07-2043-4351-8126-50b1e42f25d7",
   "metadata": {},
   "outputs": [
    {
     "name": "stdout",
     "output_type": "stream",
     "text": [
      "brendan\n",
      "\n",
      "john\n",
      "\n",
      "taskin\n",
      "\n",
      "kai\n",
      "\n",
      "irshad\n",
      "\n",
      "wei shen\n",
      "\n",
      "qin kang\n"
     ]
    }
   ],
   "source": [
    "with open('classdata.txt') as file:\n",
    "    class_list2 = file.readlines()\n",
    "    \n",
    "for name in class_list2:\n",
    "    print(name)"
   ]
  },
  {
   "cell_type": "markdown",
   "id": "0152a160-bac0-4ba3-802d-10526b36bb9b",
   "metadata": {},
   "source": [
    "<h3>Retrieving/Read data in CSV file</h3>"
   ]
  },
  {
   "cell_type": "code",
   "execution_count": 12,
   "id": "0b07fa3b-bf0f-42a0-bf6f-2e4f7b0b491e",
   "metadata": {},
   "outputs": [
    {
     "name": "stdout",
     "output_type": "stream",
     "text": [
      "['religion', '<$10k', '$10-20k', '$20-30k', '$30-40k', '$40-50k', '$50-75k', '$75-100k', '$100-150k', '>150k', \"Don't know/refused\"]\n",
      "['Agnostic', '27', '34', '60', '81', '76', '137', '122', '109', '84', '96']\n",
      "['Atheist', '12', '27', '37', '52', '35', '70', '73', '59', '74', '76']\n",
      "['Buddhist', '27', '21', '30', '34', '33', '58', '62', '39', '53', '54']\n",
      "['Catholic', '418', '617', '732', '670', '638', '1116', '949', '792', '633', '1489']\n",
      "['Don’t know/refused', '15', '14', '15', '11', '10', '35', '21', '17', '18', '116']\n",
      "['Evangelical Prot', '575', '869', '1064', '982', '881', '1486', '949', '723', '414', '1529']\n",
      "['Hindu', '1', '9', '7', '9', '11', '34', '47', '48', '54', '37']\n",
      "['Historically Black Prot', '228', '244', '236', '238', '197', '223', '131', '81', '78', '339']\n",
      "[\"Jehovah's Witness\", '20', '27', '24', '24', '21', '30', '15', '11', '6', '37']\n",
      "['Jewish', '19', '19', '25', '25', '30', '95', '69', '87', '151', '162']\n",
      "['Mainline Prot', '289', '495', '619', '655', '651', '1107', '939', '753', '634', '1328']\n",
      "['Mormon', '29', '40', '48', '51', '56', '112', '85', '49', '42', '69']\n",
      "['Muslim', '6', '7', '9', '10', '9', '23', '16', '8', '6', '22']\n",
      "['Orthodox', '13', '17', '23', '32', '32', '47', '38', '42', '46', '73']\n",
      "['Other Christian', '9', '7', '11', '13', '13', '14', '18', '14', '12', '18']\n",
      "['Other Faiths', '20', '33', '40', '46', '49', '63', '46', '40', '41', '71']\n",
      "['Other World Religions', '5', '2', '3', '4', '2', '7', '3', '4', '4', '8']\n",
      "['Unaffiliated', '217', '299', '374', '365', '341', '528', '407', '321', '258', '597']\n"
     ]
    }
   ],
   "source": [
    "import csv\n",
    "\n",
    "with open('data.csv') as f:\n",
    "    reader = csv.reader(f)\n",
    "    for row in reader:\n",
    "        print(row)"
   ]
  },
  {
   "cell_type": "markdown",
   "id": "11f5a51e-ba16-45a5-9cd1-60591be33aa9",
   "metadata": {},
   "source": [
    "<h3>Read & Save data in the CSV file into a data variable </h3>\n",
    "1. Append each row into an array"
   ]
  },
  {
   "cell_type": "code",
   "execution_count": 22,
   "id": "813cd3e2-cb94-4338-9df4-91d654046f8a",
   "metadata": {},
   "outputs": [
    {
     "name": "stdout",
     "output_type": "stream",
     "text": [
      "[['Agnostic', '27', '34', '60', '81', '76', '137', '122', '109', '84', '96'], ['Atheist', '12', '27', '37', '52', '35', '70', '73', '59', '74', '76'], ['Buddhist', '27', '21', '30', '34', '33', '58', '62', '39', '53', '54'], ['Catholic', '418', '617', '732', '670', '638', '1116', '949', '792', '633', '1489'], ['Don’t know/refused', '15', '14', '15', '11', '10', '35', '21', '17', '18', '116'], ['Evangelical Prot', '575', '869', '1064', '982', '881', '1486', '949', '723', '414', '1529'], ['Hindu', '1', '9', '7', '9', '11', '34', '47', '48', '54', '37'], ['Historically Black Prot', '228', '244', '236', '238', '197', '223', '131', '81', '78', '339'], [\"Jehovah's Witness\", '20', '27', '24', '24', '21', '30', '15', '11', '6', '37'], ['Jewish', '19', '19', '25', '25', '30', '95', '69', '87', '151', '162'], ['Mainline Prot', '289', '495', '619', '655', '651', '1107', '939', '753', '634', '1328'], ['Mormon', '29', '40', '48', '51', '56', '112', '85', '49', '42', '69'], ['Muslim', '6', '7', '9', '10', '9', '23', '16', '8', '6', '22'], ['Orthodox', '13', '17', '23', '32', '32', '47', '38', '42', '46', '73'], ['Other Christian', '9', '7', '11', '13', '13', '14', '18', '14', '12', '18'], ['Other Faiths', '20', '33', '40', '46', '49', '63', '46', '40', '41', '71'], ['Other World Religions', '5', '2', '3', '4', '2', '7', '3', '4', '4', '8'], ['Unaffiliated', '217', '299', '374', '365', '341', '528', '407', '321', '258', '597']]\n"
     ]
    }
   ],
   "source": [
    "import csv \n",
    "\n",
    "with open('data.csv') as d:\n",
    "    reader = csv.reader(d)\n",
    "    header = next(reader) #get rid of the header line\n",
    "    carpark_list = [row for row in reader]\n",
    "    print(carpark_list)\n",
    "\n"
   ]
  },
  {
   "cell_type": "markdown",
   "id": "61857b2a-9d0a-4459-aa3e-bebb81c88bc6",
   "metadata": {},
   "source": [
    "<h3>Read & Save data in the TSV file into a data variable</h3>\n",
    "1. Use - delimiter='\\t'\n",
    "2. reader = csv.reader(f,delimeter='\\t')"
   ]
  },
  {
   "cell_type": "code",
   "execution_count": 26,
   "id": "9a38bcb7-db89-4d90-8380-8ba5a0e4092f",
   "metadata": {},
   "outputs": [],
   "source": [
    "import csv \n",
    "\n",
    "with open('data.csv') as t:\n",
    "    reader = csv.reader(t, delimeter('\\t')) # or any same pattern\n",
    "    carpark_list = [row for row in reader]\n"
   ]
  },
  {
   "cell_type": "markdown",
   "id": "82d59b47-b11f-4c21-895b-8f0034aca170",
   "metadata": {},
   "source": [
    "<h3> Output CSV file as Dictionary</h3>"
   ]
  },
  {
   "cell_type": "code",
   "execution_count": 28,
   "id": "1e7fc920-3c3c-460e-b191-e719e8a68f71",
   "metadata": {},
   "outputs": [
    {
     "name": "stdout",
     "output_type": "stream",
     "text": [
      "[{'religion': 'Atheist', '<$10k': '12', '$10-20k': '27', '$20-30k': '37', '$30-40k': '52', '$40-50k': '35', '$50-75k': '70', '$75-100k': '73', '$100-150k': '59', '>150k': '74', \"Don't know/refused\": '76'}, {'religion': 'Buddhist', '<$10k': '27', '$10-20k': '21', '$20-30k': '30', '$30-40k': '34', '$40-50k': '33', '$50-75k': '58', '$75-100k': '62', '$100-150k': '39', '>150k': '53', \"Don't know/refused\": '54'}, {'religion': 'Catholic', '<$10k': '418', '$10-20k': '617', '$20-30k': '732', '$30-40k': '670', '$40-50k': '638', '$50-75k': '1116', '$75-100k': '949', '$100-150k': '792', '>150k': '633', \"Don't know/refused\": '1489'}, {'religion': 'Don’t know/refused', '<$10k': '15', '$10-20k': '14', '$20-30k': '15', '$30-40k': '11', '$40-50k': '10', '$50-75k': '35', '$75-100k': '21', '$100-150k': '17', '>150k': '18', \"Don't know/refused\": '116'}, {'religion': 'Evangelical Prot', '<$10k': '575', '$10-20k': '869', '$20-30k': '1064', '$30-40k': '982', '$40-50k': '881', '$50-75k': '1486', '$75-100k': '949', '$100-150k': '723', '>150k': '414', \"Don't know/refused\": '1529'}, {'religion': 'Hindu', '<$10k': '1', '$10-20k': '9', '$20-30k': '7', '$30-40k': '9', '$40-50k': '11', '$50-75k': '34', '$75-100k': '47', '$100-150k': '48', '>150k': '54', \"Don't know/refused\": '37'}, {'religion': 'Historically Black Prot', '<$10k': '228', '$10-20k': '244', '$20-30k': '236', '$30-40k': '238', '$40-50k': '197', '$50-75k': '223', '$75-100k': '131', '$100-150k': '81', '>150k': '78', \"Don't know/refused\": '339'}, {'religion': \"Jehovah's Witness\", '<$10k': '20', '$10-20k': '27', '$20-30k': '24', '$30-40k': '24', '$40-50k': '21', '$50-75k': '30', '$75-100k': '15', '$100-150k': '11', '>150k': '6', \"Don't know/refused\": '37'}, {'religion': 'Jewish', '<$10k': '19', '$10-20k': '19', '$20-30k': '25', '$30-40k': '25', '$40-50k': '30', '$50-75k': '95', '$75-100k': '69', '$100-150k': '87', '>150k': '151', \"Don't know/refused\": '162'}, {'religion': 'Mainline Prot', '<$10k': '289', '$10-20k': '495', '$20-30k': '619', '$30-40k': '655', '$40-50k': '651', '$50-75k': '1107', '$75-100k': '939', '$100-150k': '753', '>150k': '634', \"Don't know/refused\": '1328'}, {'religion': 'Mormon', '<$10k': '29', '$10-20k': '40', '$20-30k': '48', '$30-40k': '51', '$40-50k': '56', '$50-75k': '112', '$75-100k': '85', '$100-150k': '49', '>150k': '42', \"Don't know/refused\": '69'}, {'religion': 'Muslim', '<$10k': '6', '$10-20k': '7', '$20-30k': '9', '$30-40k': '10', '$40-50k': '9', '$50-75k': '23', '$75-100k': '16', '$100-150k': '8', '>150k': '6', \"Don't know/refused\": '22'}, {'religion': 'Orthodox', '<$10k': '13', '$10-20k': '17', '$20-30k': '23', '$30-40k': '32', '$40-50k': '32', '$50-75k': '47', '$75-100k': '38', '$100-150k': '42', '>150k': '46', \"Don't know/refused\": '73'}, {'religion': 'Other Christian', '<$10k': '9', '$10-20k': '7', '$20-30k': '11', '$30-40k': '13', '$40-50k': '13', '$50-75k': '14', '$75-100k': '18', '$100-150k': '14', '>150k': '12', \"Don't know/refused\": '18'}, {'religion': 'Other Faiths', '<$10k': '20', '$10-20k': '33', '$20-30k': '40', '$30-40k': '46', '$40-50k': '49', '$50-75k': '63', '$75-100k': '46', '$100-150k': '40', '>150k': '41', \"Don't know/refused\": '71'}, {'religion': 'Other World Religions', '<$10k': '5', '$10-20k': '2', '$20-30k': '3', '$30-40k': '4', '$40-50k': '2', '$50-75k': '7', '$75-100k': '3', '$100-150k': '4', '>150k': '4', \"Don't know/refused\": '8'}, {'religion': 'Unaffiliated', '<$10k': '217', '$10-20k': '299', '$20-30k': '374', '$30-40k': '365', '$40-50k': '341', '$50-75k': '528', '$75-100k': '407', '$100-150k': '321', '>150k': '258', \"Don't know/refused\": '597'}]\n"
     ]
    }
   ],
   "source": [
    "import csv \n",
    "\n",
    "with open('data.csv') as m:\n",
    "    reader = csv.DictReader(m)\n",
    "    header = next(reader)\n",
    "    carpark_list = list(reader)\n",
    "    \n",
    "    print(carpark_list)"
   ]
  },
  {
   "cell_type": "markdown",
   "id": "53950256-b108-4d41-9278-74bf4550db65",
   "metadata": {},
   "source": [
    "<h3> Output Python Dictionary as CSV file </h3>"
   ]
  },
  {
   "cell_type": "code",
   "execution_count": 39,
   "id": "90dc119a-b4bc-4315-880e-082a7cd847ce",
   "metadata": {},
   "outputs": [],
   "source": [
    "carparklist = [\n",
    "    {'carpark_no': 'ACB', 'address': 'BLK 270/271 ALBERT CENTRE BASEMENT CAR PARK', 'x_coord': '30314.7936', 'y_coord': \n",
    "'31490.4942'},\n",
    "    {'carpark_no': 'ACM', 'address': 'BLK 98A ALJUNIED CRESCENT', 'x_coord': '33758.4143', 'y_coord': '33695.5198'},\n",
    "    {'carpark_no': 'AH1', 'address': 'BLK 101 JALAN DUSUN', \n",
    "'x_coord': '29257.7203', 'y_coord': '34500.3599'}\n",
    "     ]\n",
    "     \n",
    "#extract the name of each data column using the dict keys\n",
    "cols = carparklist[0].keys()\n",
    "    \n",
    "#write them in the first line of the CSV file\n",
    "with open('newdata.csv', 'w') as n:\n",
    "     n.write(','.join(cols)+'\\n')\n",
    "\n",
    "#then write the rest of the CSV file\n",
    "     for o in carparklist:\n",
    "        row = [str(o[col]) for col in cols]\n",
    "        n.write(','.join(row)+'\\n')\n",
    "               "
   ]
  },
  {
   "cell_type": "code",
   "execution_count": null,
   "id": "da6dcf07-703c-4824-8892-2697e7df4cac",
   "metadata": {},
   "outputs": [],
   "source": []
  },
  {
   "cell_type": "code",
   "execution_count": null,
   "id": "1243bb1e-986f-4c2e-acfc-f5ec1c439a20",
   "metadata": {},
   "outputs": [],
   "source": []
  }
 ],
 "metadata": {
  "kernelspec": {
   "display_name": "Python 3 (ipykernel)",
   "language": "python",
   "name": "python3"
  },
  "language_info": {
   "codemirror_mode": {
    "name": "ipython",
    "version": 3
   },
   "file_extension": ".py",
   "mimetype": "text/x-python",
   "name": "python",
   "nbconvert_exporter": "python",
   "pygments_lexer": "ipython3",
   "version": "3.9.13"
  }
 },
 "nbformat": 4,
 "nbformat_minor": 5
}
