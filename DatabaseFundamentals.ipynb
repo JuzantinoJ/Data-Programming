{
 "cells": [
  {
   "attachments": {
    "f2c6d68e-a141-450f-97f2-63afd96b6016.png": {
     "image/png": "[encoded data removed]"
    }
   },
   "cell_type": "markdown",
   "id": "e89539a6-40ad-44fb-99b6-7dc0aae03983",
   "metadata": {},
   "source": [
    "<h1> Basic Database Concepts </h1> \n",
    "\n",
    "- In Python, we can use “indexes” or “keys” to find specific data in an array or dictionary. \n",
    "\n",
    "- databases can be organised to map keys to values, very much like the way dictionaries work in Python programming\n",
    "\n",
    "- we will use SQLite3 to understand the various database concepts.\n",
    "\n",
    "- database is like a spreadsheet with multiple sheets, Each of these sheets is analogous to a table\n",
    "\n",
    "- In database terminology, we call the logical structure of a database to be the schema of the database. a spreadsheet is like a representation of one database schema.\n",
    "\n",
    "![image.png](attachment:f2c6d68e-a141-450f-97f2-63afd96b6016.png)\n",
    "\n",
    "- To store data in a database table, we need to <u>tell the database in advance the names of each of the columns</u> in the table, and the <u>type of data that will be stored in each column</u>. This step is also known as defining the <u>Database Schema.</u>"
   ]
  },
  {
   "cell_type": "code",
   "execution_count": 4,
   "id": "c318fe22-dfd4-438d-b168-fb6ed69b5c7e",
   "metadata": {},
   "outputs": [],
   "source": [
    "# creates a database file, music.sqlite, \n",
    "# and a table named Tracks with two columns in the database\n",
    "\n",
    "import sqlite3\n",
    "conn = sqlite3.connect('music.sqlite')\n",
    "\n",
    "cur = conn.cursor()\n",
    "\n",
    "# removes the Tracks table from the database if it exists\n",
    "cur.execute('DROP TABLE IF EXISTS Tracks')\n",
    "\n",
    "# creates a table named Tracks with a \n",
    "# text column named title and an integer column named plays.\n",
    "cur.execute('CREATE TABLE Tracks (title TEXT, plays INTEGER)')\n",
    "conn.close()"
   ]
  },
  {
   "cell_type": "code",
   "execution_count": 7,
   "id": "77282b19-d20a-4544-91e5-faae2ad55dfb",
   "metadata": {},
   "outputs": [],
   "source": [
    "# AWS , RDS DATABASE\n",
    "# Retrieve data from RDS DATABASE USING ORM\n",
    "\n",
    "#python ORM library sqlalchemy to retrieve database where data is stored\n",
    "from sqlalchemy.ext.declarative import declarative_base\n",
    "\n",
    "# Neccesary types to define ORM classes\n",
    "from sqlalchemy import Column, Integer, String, Enum, Float, ForeignKey\n",
    "\n",
    "# concept of relationship to define relationship btwn ORM objects btwn\n",
    "# two relations table\n",
    "from sqlalchemy.orm import relationship\n",
    "\n",
    "Base = declarative_base()\n",
    "\n",
    "class Customer(Base):\n",
    "    __tablename__ = 'customers'\n",
    "    \n",
    "    customer_id = Column(Integer, primary_key = True)\n",
    "    customer_name = Column(String)\n",
    "    \n",
    "    def __repr__(self):\n",
    "        return \"%s %s\" %(self.customer_id, self.customer_name)\n",
    "    \n",
    "# In SQL, these database table creation commands \n",
    "# are also known as Data Definition Language.\n"
   ]
  },
  {
   "cell_type": "markdown",
   "id": "22070665-98f5-45b8-9de5-d7a02988ff12",
   "metadata": {},
   "source": [
    "<h3> Basic CRUD (Create, Read, Update, Delete) Operations using SQL</h3>\n",
    "\n",
    "-  basic functions in any computer data processing operations are to Create, Read, Update and Delete data.\n",
    "\n",
    "1. Create - Insert a row of data into the Tracks table which has the columns “title” and “plays”\n",
    "\n",
    "- INSERT INTO Tracks (title, plays) values ('Rainbow connection', 20)\n",
    "\n",
    "2. Read - Get all rows from Tracks table where column / attribute “plays” = 20\n",
    "\n",
    "- SELECT * FROM Tracks WHERE plays=20\n",
    "\n",
    "3. Update - In the Tracks table, in rows where column / attribute “title” = ‘Rainbow connection”, set the attribute “plays” to 5\n",
    "\n",
    "- UPDATE Tracks SET plays=5 WHERE title='Rainbow connection'\n",
    "\n",
    "4. Update - In the Tracks table, delete all rows where column / attribute “plays” = 5\n",
    "\n",
    "- DELETE FROM Tracks WHERE plays=5"
   ]
  },
  {
   "cell_type": "code",
   "execution_count": 23,
   "id": "0b37908b-6483-4ba0-97a8-4fc4b26afd3a",
   "metadata": {},
   "outputs": [
    {
     "ename": "OperationalError",
     "evalue": "database is locked",
     "output_type": "error",
     "traceback": [
      "\u001b[0;31m---------------------------------------------------------------------------\u001b[0m",
      "\u001b[0;31mOperationalError\u001b[0m                          Traceback (most recent call last)",
      "\u001b[0;32m/var/folders/59/n_3kk6yj2hs41907y2jwpqhw0000gn/T/ipykernel_60324/3111838018.py\u001b[0m in \u001b[0;36m<module>\u001b[0;34m\u001b[0m\n\u001b[1;32m      8\u001b[0m cur.execute('INSERT INTO Tracks (title, plays) VALUES (?, ?)',\n\u001b[1;32m      9\u001b[0m     ('My Way', 15))\n\u001b[0;32m---> 10\u001b[0;31m \u001b[0mconn\u001b[0m\u001b[0;34m.\u001b[0m\u001b[0mcommit\u001b[0m\u001b[0;34m(\u001b[0m\u001b[0;34m)\u001b[0m\u001b[0;34m\u001b[0m\u001b[0;34m\u001b[0m\u001b[0m\n\u001b[0m\u001b[1;32m     11\u001b[0m \u001b[0mprint\u001b[0m\u001b[0;34m(\u001b[0m\u001b[0;34m'Tracks:'\u001b[0m\u001b[0;34m)\u001b[0m\u001b[0;34m\u001b[0m\u001b[0;34m\u001b[0m\u001b[0m\n\u001b[1;32m     12\u001b[0m \u001b[0;34m\u001b[0m\u001b[0m\n",
      "\u001b[0;31mOperationalError\u001b[0m: database is locked"
     ]
    }
   ],
   "source": [
    "#insert Data into TRACK table\n",
    "\n",
    "import sqlite3\n",
    "conn = sqlite3.connect('music.sqlite')\n",
    "cur = conn.cursor()\n",
    "cur.execute('INSERT INTO Tracks (title, plays) VALUES (?, ?)',\n",
    "    ('Thunderstruck', 20))\n",
    "cur.execute('INSERT INTO Tracks (title, plays) VALUES (?, ?)',\n",
    "    ('My Way', 15))\n",
    "conn.commit()\n",
    "print('Tracks:')\n",
    "\n",
    "\n",
    "# selects all rows from the table and then uses a loop \n",
    "# to display the values in the column title and plays\n",
    "cur.execute('SELECT title, plays FROM Tracks') \n",
    "for row in cur:\n",
    "    print(row)\n",
    "    \n",
    "# to just return one value, we can use the fetchone() method\n",
    "cur.execute('SELECT title, plays FROM Tracks') \n",
    "onerow = cur.fetchone() \n",
    "print(onerow)\n",
    "\n",
    "# 1. How do we check how much data we have in a database using SQL?\n",
    "print(len(row))\n",
    "\n",
    "# 2. How do we do simple operations like add, \n",
    "# subtract or multiply to the data in the database?\n",
    "\n"
   ]
  },
  {
   "cell_type": "code",
   "execution_count": null,
   "id": "00775849-c088-4b83-8f60-eb677c7d4a11",
   "metadata": {},
   "outputs": [],
   "source": []
  },
  {
   "cell_type": "markdown",
   "id": "3f6db639-3fef-4bf6-abb0-76b29b4a5883",
   "metadata": {},
   "source": [
    "<h3> SQL vs NoSQL Database </h3>\n",
    "\n",
    "1. SQLite3, together with other database products like \n",
    "MySQL, Oracle, PostgreSQL, etc. belongs \n",
    "to the family of databases called Relational Databases (RDBMS)\n",
    "\n",
    "- database, data units and their internal relationships are \n",
    "organised into tables, each table representing an \n",
    "entity (e.g. customers, orders or relationship).\n",
    "\n",
    "- structure and organisation of these tables need to be \n",
    "established beforehand as the database schema\n",
    "\n",
    "2. NoSQL databases are schema-less. \n",
    "\n",
    "-  data are organised in terms of documents. These databases save \n",
    "data in JSON like forms, so the information could be mapped \n",
    "directly to dictionaries in our programming language\n",
    "\n",
    "- there is no need to predefine schema, the flexibility allows \n",
    "these types of databases for rapid prototyping of small projects.\n",
    "\n",
    "<h4> Differences of SQL and NOSQL </h4>\n",
    "\n",
    "\n",
    "\n",
    "| SQL | NOSQL |\n",
    "|-----| ------|\n",
    "|SQL database are known as Relational Databases; | NoSQL (Not Only SQL) databases are known as non-relational or distributed database.|\n",
    "|SQL databases are table-based, each table consisting of rows of data| NoSQL databases are document-based, key-value pairs, graph databases or wide-column stores - there are no standard schema definitions.|\n",
    " |SQL databases can be scaled vertically by increasing the power of hardware (e.g. CPU, RAM SSD) to achieve faster calculation when the load increases| NoSQL databases are scaled by increasing the number of servers in the resource pool to reduce the load.|\n",
    " |SQL databases use SQL statements for defining and manipulating data;|In NoSQL databases, the syntax to retrieve the collection of documents varies from database to database, depending on vendor’s implementation.| \n",
    " ||NoSQL databases are better for hierarchical data storage as they generally follow the key-value pair way of storing data similar to JSON data. They are also preferred for large data sets (big data) due to the distributed computing capabilities.|\n",
    " |For high transactional based application (e.g. stock exchanges), SQL databases are still the best fit, as it is more stable and promises atomicity (i.e. complete update of databases, instead of incomplete or partial changes) and integrity of data|NoSQL databases are less comparable in high load or complex transactional applications, although vendors are working towards achieving that.|\n",
    " |SQL databases emphasises on ACID properties (Atomicity, Consistency, Isolation and Durability), which are intended to guarantee validity even in the event of errors, power failures, etc|NoSQL databases follows the Brewer CAP theorem (Consistency, Availability and Partition tolerance).|"
   ]
  },
  {
   "cell_type": "markdown",
   "id": "6f16082c-ef95-4720-aed2-6a335ba1a4ae",
   "metadata": {},
   "source": [
    "<h3> NoSQL Database - MongoDB </h3>\n",
    "\n"
   ]
  },
  {
   "cell_type": "code",
   "execution_count": null,
   "id": "5d54ae80-3e7d-4d0e-b5ad-5f52db140ad9",
   "metadata": {},
   "outputs": [],
   "source": []
  },
  {
   "cell_type": "code",
   "execution_count": null,
   "id": "4a1585a2-6474-4975-a4da-3a1083ac252c",
   "metadata": {},
   "outputs": [],
   "source": []
  }
 ],
 "metadata": {
  "kernelspec": {
   "display_name": "Python 3 (ipykernel)",
   "language": "python",
   "name": "python3"
  },
  "language_info": {
   "codemirror_mode": {
    "name": "ipython",
    "version": 3
   },
   "file_extension": ".py",
   "mimetype": "text/x-python",
   "name": "python",
   "nbconvert_exporter": "python",
   "pygments_lexer": "ipython3",
   "version": "3.9.13"
  }
 },
 "nbformat": 4,
 "nbformat_minor": 5
}
